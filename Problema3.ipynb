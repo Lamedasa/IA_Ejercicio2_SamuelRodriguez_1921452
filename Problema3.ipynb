{
  "nbformat": 4,
  "nbformat_minor": 0,
  "metadata": {
    "colab": {
      "name": "Untitled6.ipynb",
      "provenance": [],
      "authorship_tag": "ABX9TyNsf8iMwy93AP8i+HtsvCj7",
      "include_colab_link": true
    },
    "kernelspec": {
      "name": "python3",
      "display_name": "Python 3"
    },
    "language_info": {
      "name": "python"
    }
  },
  "cells": [
    {
      "cell_type": "markdown",
      "metadata": {
        "id": "view-in-github",
        "colab_type": "text"
      },
      "source": [
        "<a href=\"https://colab.research.google.com/github/Lamedasa/IA_Ejercicio2_SamuelRodriguez_1921452/blob/main/Problema3.ipynb\" target=\"_parent\"><img src=\"https://colab.research.google.com/assets/colab-badge.svg\" alt=\"Open In Colab\"/></a>"
      ]
    },
    {
      "cell_type": "markdown",
      "source": [
        "Ejercicios basicos en python, Samuel Eduardo Rodriguez Escamilla, 1921452, N1-N3"
      ],
      "metadata": {
        "id": "y4vQBWR_D6rE"
      }
    },
    {
      "cell_type": "code",
      "execution_count": 11,
      "metadata": {
        "colab": {
          "base_uri": "https://localhost:8080/"
        },
        "id": "JeRTQemq8RDq",
        "outputId": "eff73595-a19e-4b7c-b948-fb11e9e11931"
      },
      "outputs": [
        {
          "output_type": "stream",
          "name": "stdout",
          "text": [
            "********\n",
            "*Espero*\n",
            "*me    *\n",
            "*salga *\n",
            "*bien  *\n",
            "*el    *\n",
            "*marco *\n",
            "********\n"
          ]
        }
      ],
      "source": [
        "print(\"********\")\n",
        "lista = [\"*Espero*\", \"*me    *\",\"*salga *\",\"*bien  *\",\"*el    *\",\"*marco *\"]\n",
        "for x in lista:\n",
        "  print(x)\n",
        "print(\"********\")"
      ]
    },
    {
      "cell_type": "markdown",
      "source": [
        "El print al inicio y al final son para que los bordes esten hechos con *.\n",
        "La lista es para que al final quede de forma horizontal.\n",
        "El for se utiliza para recorrer los elementos de un objeto."
      ],
      "metadata": {
        "id": "f1tgEaq3DPJ7"
      }
    }
  ]
}