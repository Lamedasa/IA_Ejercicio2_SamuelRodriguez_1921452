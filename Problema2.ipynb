{
  "nbformat": 4,
  "nbformat_minor": 0,
  "metadata": {
    "colab": {
      "name": "Untitled7.ipynb",
      "provenance": [],
      "authorship_tag": "ABX9TyOSdqQ7tBIjVh62+/R9Xhof",
      "include_colab_link": true
    },
    "kernelspec": {
      "name": "python3",
      "display_name": "Python 3"
    },
    "language_info": {
      "name": "python"
    }
  },
  "cells": [
    {
      "cell_type": "markdown",
      "metadata": {
        "id": "view-in-github",
        "colab_type": "text"
      },
      "source": [
        "<a href=\"https://colab.research.google.com/github/Lamedasa/IA_Ejercicio2_SamuelRodriguez_1921452/blob/main/Problema2.ipynb\" target=\"_parent\"><img src=\"https://colab.research.google.com/assets/colab-badge.svg\" alt=\"Open In Colab\"/></a>"
      ]
    },
    {
      "cell_type": "markdown",
      "source": [
        "Ejercicios basicos en python, Samuel Eduardo Rodriguez Escamilla, 1921452, N1-N3"
      ],
      "metadata": {
        "id": "-r1-lN06EWjA"
      }
    },
    {
      "cell_type": "code",
      "execution_count": 1,
      "metadata": {
        "colab": {
          "base_uri": "https://localhost:8080/"
        },
        "id": "g3oOWCM6ETJh",
        "outputId": "ac70db0e-61ca-452e-a21d-916a708fae9c"
      },
      "outputs": [
        {
          "output_type": "stream",
          "name": "stdout",
          "text": [
            "['Melon', 'Uva', 'Durazno', 'Pera', 'Sandia']\n"
          ]
        }
      ],
      "source": [
        "list = [\"Sandia\",\"Pera\",\"Durazno\",\"Uva\",\"Melon\",\"Toronja\"]\n",
        "del list[-1]\n",
        "list.reverse()\n",
        "print(list)"
      ]
    },
    {
      "cell_type": "markdown",
      "source": [
        "list es un tipo de estructuras de datos muy flexible que guardan de forma ordenada un conjunto de datos.\n",
        "el list-1 sirve para quitar el ultimo elemento agregado y el . reverse sirve para voltear el orden de la lista."
      ],
      "metadata": {
        "id": "XAgCXkkhEWJZ"
      }
    }
  ]
}