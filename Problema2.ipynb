{
  "nbformat": 4,
  "nbformat_minor": 0,
  "metadata": {
    "colab": {
      "name": "Untitled5.ipynb",
      "provenance": [],
      "authorship_tag": "ABX9TyM8jHNaGbRK2q8UDfdyqyjO",
      "include_colab_link": true
    },
    "kernelspec": {
      "name": "python3",
      "display_name": "Python 3"
    },
    "language_info": {
      "name": "python"
    }
  },
  "cells": [
    {
      "cell_type": "markdown",
      "metadata": {
        "id": "view-in-github",
        "colab_type": "text"
      },
      "source": [
        "<a href=\"https://colab.research.google.com/github/Lamedasa/IA_Ejercicio2_SamuelRodriguez_1921452/blob/main/Problema2.ipynb\" target=\"_parent\"><img src=\"https://colab.research.google.com/assets/colab-badge.svg\" alt=\"Open In Colab\"/></a>"
      ]
    },
    {
      "cell_type": "code",
      "execution_count": 4,
      "metadata": {
        "colab": {
          "base_uri": "https://localhost:8080/"
        },
        "id": "5Lrrc7Fb6MeI",
        "outputId": "ba72079c-c5ee-4471-efb5-fbe9a68e4b1d"
      },
      "outputs": [
        {
          "output_type": "stream",
          "name": "stdout",
          "text": [
            "['Melon', 'Uva', 'Durazno', 'Pera', 'Sandia']\n"
          ]
        }
      ],
      "source": [
        "list = [\"Sandia\",\"Pera\",\"Durazno\",\"Uva\",\"Melon\",\"Toronja\"]\n",
        "del list[-1]\n",
        "list.reverse()\n",
        "print(list)"
      ]
    }
  ]
}